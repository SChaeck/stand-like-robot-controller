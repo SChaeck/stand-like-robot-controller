{
 "cells": [
  {
   "cell_type": "code",
   "execution_count": 1,
   "metadata": {},
   "outputs": [],
   "source": [
    "import os\n",
    "from dynamixel_sdk.controllerXC import *\n",
    "from dynamixel_sdk.controllerAX import *\n",
    "import time"
   ]
  },
  {
   "cell_type": "code",
   "execution_count": 2,
   "metadata": {},
   "outputs": [
    {
     "name": "stdout",
     "output_type": "stream",
     "text": [
      "Succeeded to open the port\n",
      "Succeeded to change the baudrate\n"
     ]
    }
   ],
   "source": [
    "# Initialize parameters\n",
    "DEVICENAME                  = '/dev/tty.usbserial-FT8ISMU2'    # Check which port is being used on your controller\n",
    "                                                # ex) Windows: \"COM1\"   Linux: \"/dev/ttyUSB0\" Mac: \"/dev/tty.usbserial-*\"\n",
    "portHandler = PortHandler(DEVICENAME)\n",
    "\n",
    "\n",
    "BAUDRATE                    = 115200\n",
    "AX0_ID                      = 0\n",
    "XC1_ID                      = 4\n",
    "XC_MOVING_STATUS_THRESHOLD  = 10\n",
    "AX_MOVING_STATUS_THRESHOLD  = 10\n",
    "\n",
    "# Open port\n",
    "if portHandler.openPort():\n",
    "    print(\"Succeeded to open the port\")\n",
    "else:\n",
    "    print(\"Failed to open the port\")\n",
    "    print(\"Press any key to terminate...\")\n",
    "    getch()\n",
    "    quit()\n",
    "\n",
    "# Set port baudrate\n",
    "if portHandler.setBaudRate(BAUDRATE):\n",
    "    print(\"Succeeded to change the baudrate\")\n",
    "else:\n",
    "    print(\"Failed to change the baudrate\")\n",
    "    print(\"Press any key to terminate...\")\n",
    "    getch()\n",
    "    quit()"
   ]
  },
  {
   "cell_type": "code",
   "execution_count": 3,
   "metadata": {},
   "outputs": [
    {
     "name": "stdout",
     "output_type": "stream",
     "text": [
      "Dynamixel AX motor ID #0 has been successfully connected\n",
      "Dynamixel AX motor ID #0 has been successfully set speed to 100\n"
     ]
    }
   ],
   "source": [
    "AX1_controller = ControllerAX(portHandler, BAUDRATE, AX0_ID)\n",
    "AX1_controller.torque_enable()\n",
    "AX1_controller.set_moving_speed(speed_value=100)"
   ]
  },
  {
   "cell_type": "code",
   "execution_count": 4,
   "metadata": {},
   "outputs": [
    {
     "name": "stdout",
     "output_type": "stream",
     "text": [
      "512\n"
     ]
    }
   ],
   "source": [
    "ax1_present_position = AX1_controller.read_current_position()\n",
    "print(ax1_present_position)"
   ]
  },
  {
   "cell_type": "code",
   "execution_count": 5,
   "metadata": {},
   "outputs": [
    {
     "name": "stdout",
     "output_type": "stream",
     "text": [
      "Dynamixel XC motor ID #4 has been successfully connected\n",
      "Dynamixel XC motor ID #4 has been successfully set P gain to 600\n"
     ]
    }
   ],
   "source": [
    "# Define XC motor controller\n",
    "XC1_controller = ControllerXC(portHandler, BAUDRATE, XC1_ID)\n",
    "XC1_controller.torque_enable()\n",
    "XC1_controller.set_position_p_gain(speed_value=600)\n"
   ]
  },
  {
   "cell_type": "code",
   "execution_count": 6,
   "metadata": {},
   "outputs": [
    {
     "name": "stdout",
     "output_type": "stream",
     "text": [
      "4095\n"
     ]
    }
   ],
   "source": [
    "xc1_present_position = XC1_controller.read_current_position()\n",
    "print(xc1_present_position)"
   ]
  },
  {
   "cell_type": "code",
   "execution_count": null,
   "metadata": {},
   "outputs": [],
   "source": []
  }
 ],
 "metadata": {
  "kernelspec": {
   "display_name": "robot_arm",
   "language": "python",
   "name": "python3"
  },
  "language_info": {
   "codemirror_mode": {
    "name": "ipython",
    "version": 3
   },
   "file_extension": ".py",
   "mimetype": "text/x-python",
   "name": "python",
   "nbconvert_exporter": "python",
   "pygments_lexer": "ipython3",
   "version": "3.9.21"
  }
 },
 "nbformat": 4,
 "nbformat_minor": 2
}
