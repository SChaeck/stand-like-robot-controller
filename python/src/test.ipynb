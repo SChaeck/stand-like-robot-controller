{
 "cells": [
  {
   "cell_type": "markdown",
   "metadata": {},
   "source": [
    "# Test Code for Kinematic and Dynamic Solvers\n",
    "\n",
    "This notebook contains test cases for:\n",
    "1. Forward Kinematics\n",
    "2. Inverse Kinematics\n",
    "3. Inverse Dynamics"
   ]
  },
  {
   "cell_type": "code",
   "execution_count": 8,
   "metadata": {},
   "outputs": [],
   "source": [
    "import numpy as np\n",
    "import yaml\n",
    "from kinematic_solver import KinematicSolver\n",
    "import matplotlib.pyplot as plt\n",
    "from mpl_toolkits.mplot3d import Axes3D"
   ]
  },
  {
   "cell_type": "markdown",
   "metadata": {},
   "source": [
    "## 1. Load Robot Parameters from YAML"
   ]
  },
  {
   "cell_type": "code",
   "execution_count": null,
   "metadata": {},
   "outputs": [],
   "source": [
    "# Load robot parameters from YAML file\n",
    "with open('stand_like_robot.yaml', 'r') as file:\n",
    "    robot_params = yaml.safe_load(file)\n",
    "\n",
    "# Extract DH parameters, masses, COMs, and inertias\n",
    "dh_params = [link['dh_params'] for link in robot_params['links'] if link['type'] == 'revolute']\n",
    "masses = [link['mass'] for link in robot_params['links'] if link['type'] == 'revolute']\n",
    "coms = [np.array(link['com']) for link in robot_params['links'] if link['type'] == 'revolute']\n",
    "inertias = [np.array(link['inertia']) for link in robot_params['links'] if link['type'] == 'revolute']\n",
    "\n",
    "print(f\"Number of joints: {len(dh_params)}\")\n",
    "print(\"\\nDH Parameters:\")\n",
    "for i, params in enumerate(dh_params):\n",
    "    print(f\"Joint {i}:\", params)"
   ]
  },
  {
   "cell_type": "markdown",
   "metadata": {},
   "source": [
    "## 2. Initialize Solvers"
   ]
  },
  {
   "cell_type": "code",
   "execution_count": null,
   "metadata": {},
   "outputs": [],
   "source": [
    "# Initialize kinematic and dynamic solvers\n",
    "kinematic_solver = KinematicSolver(dh_params)\n",
    "dynamics_solver = InverseDynamicsSolver(dh_params, masses, coms, inertias)"
   ]
  },
  {
   "cell_type": "markdown",
   "metadata": {},
   "source": [
    "## 3. Test Forward Kinematics"
   ]
  },
  {
   "cell_type": "code",
   "execution_count": null,
   "metadata": {},
   "outputs": [],
   "source": [
    "def test_forward_kinematics():\n",
    "    # Test case 1: Zero position\n",
    "    joint_angles = np.zeros(len(dh_params))\n",
    "    position, orientation = kinematic_solver.forward_kinematics(joint_angles)\n",
    "    print(\"Test 1 - Zero Position:\")\n",
    "    print(f\"Position: {position}\")\n",
    "    print(f\"Orientation: {np.rad2deg(orientation)} degrees\\n\")\n",
    "    \n",
    "    # Test case 2: Random position\n",
    "    joint_angles = np.random.uniform(-np.pi, np.pi, len(dh_params))\n",
    "    position, orientation = kinematic_solver.forward_kinematics(joint_angles)\n",
    "    print(\"Test 2 - Random Position:\")\n",
    "    print(f\"Joint angles: {np.rad2deg(joint_angles)} degrees\")\n",
    "    print(f\"Position: {position}\")\n",
    "    print(f\"Orientation: {np.rad2deg(orientation)} degrees\")\n",
    "    \n",
    "    return joint_angles, position, orientation\n",
    "\n",
    "joint_angles, position, orientation = test_forward_kinematics()"
   ]
  },
  {
   "cell_type": "markdown",
   "metadata": {},
   "source": [
    "## 4. Test Inverse Kinematics"
   ]
  },
  {
   "cell_type": "code",
   "execution_count": null,
   "metadata": {},
   "outputs": [],
   "source": [
    "def test_inverse_kinematics():\n",
    "    # Test case 1: Using position from forward kinematics\n",
    "    target_position = position  # Use position from previous test\n",
    "    target_orientation = orientation  # Use orientation from previous test\n",
    "    \n",
    "    # Solve inverse kinematics\n",
    "    solved_angles = kinematic_solver.inverse_kinematics(\n",
    "        target_position,\n",
    "        target_orientation,\n",
    "        seed=np.zeros(len(dh_params))\n",
    "    )\n",
    "    \n",
    "    # Verify solution\n",
    "    solved_position, solved_orientation = kinematic_solver.forward_kinematics(solved_angles)\n",
    "    position_error = np.linalg.norm(target_position - solved_position)\n",
    "    orientation_error = np.linalg.norm(target_orientation - solved_orientation)\n",
    "    \n",
    "    print(\"Test 1 - Inverse Kinematics:\")\n",
    "    print(f\"Original joint angles: {np.rad2deg(joint_angles)} degrees\")\n",
    "    print(f\"Solved joint angles: {np.rad2deg(solved_angles)} degrees\")\n",
    "    print(f\"Position error: {position_error}\")\n",
    "    print(f\"Orientation error: {orientation_error} radians\")\n",
    "    \n",
    "    return solved_angles, position_error, orientation_error\n",
    "\n",
    "solved_angles, pos_error, orient_error = test_inverse_kinematics()"
   ]
  },
  {
   "cell_type": "markdown",
   "metadata": {},
   "source": [
    "## 5. Test Inverse Dynamics"
   ]
  },
  {
   "cell_type": "code",
   "execution_count": null,
   "metadata": {},
   "outputs": [],
   "source": [
    "def test_inverse_dynamics():\n",
    "    # Test case 1: Static position (zero velocity and acceleration)\n",
    "    joint_angles = np.zeros(len(dh_params))\n",
    "    joint_velocities = np.zeros(len(dh_params))\n",
    "    joint_accelerations = np.zeros(len(dh_params))\n",
    "    \n",
    "    torques = dynamics_solver.inverse_dynamics(\n",
    "        joint_angles,\n",
    "        joint_velocities,\n",
    "        joint_accelerations\n",
    "    )\n",
    "    \n",
    "    print(\"Test 1 - Static Position:\")\n",
    "    print(f\"Required torques: {torques}\\n\")\n",
    "    \n",
    "    # Test case 2: Dynamic motion\n",
    "    joint_angles = np.random.uniform(-np.pi, np.pi, len(dh_params))\n",
    "    joint_velocities = np.random.uniform(-1, 1, len(dh_params))\n",
    "    joint_accelerations = np.random.uniform(-1, 1, len(dh_params))\n",
    "    \n",
    "    torques = dynamics_solver.inverse_dynamics(\n",
    "        joint_angles,\n",
    "        joint_velocities,\n",
    "        joint_accelerations\n",
    "    )\n",
    "    \n",
    "    print(\"Test 2 - Dynamic Motion:\")\n",
    "    print(f\"Joint angles: {np.rad2deg(joint_angles)} degrees\")\n",
    "    print(f\"Joint velocities: {joint_velocities} rad/s\")\n",
    "    print(f\"Joint accelerations: {joint_accelerations} rad/s²\")\n",
    "    print(f\"Required torques: {torques}\")\n",
    "    \n",
    "    return torques\n",
    "\n",
    "torques = test_inverse_dynamics()"
   ]
  },
  {
   "cell_type": "markdown",
   "metadata": {},
   "source": [
    "## 6. Visualize Robot Configuration"
   ]
  },
  {
   "cell_type": "code",
   "execution_count": null,
   "metadata": {},
   "outputs": [],
   "source": [
    "def visualize_robot_configuration(joint_angles):\n",
    "    # Calculate positions of all joints\n",
    "    positions = []\n",
    "    T = np.eye(4)\n",
    "    positions.append(T[:3, 3])  # Base position\n",
    "    \n",
    "    for i, (params, theta) in enumerate(zip(dh_params, joint_angles)):\n",
    "        params['theta'] = theta\n",
    "        Ti = kinematic_solver._dh_transform(\n",
    "            params['theta'],\n",
    "            params['d'],\n",
    "            params['a'],\n",
    "            params['alpha']\n",
    "        )\n",
    "        T = T @ Ti\n",
    "        positions.append(T[:3, 3])\n",
    "    \n",
    "    # Plot robot configuration\n",
    "    positions = np.array(positions)\n",
    "    fig = plt.figure(figsize=(10, 10))\n",
    "    ax = fig.add_subplot(111, projection='3d')\n",
    "    \n",
    "    # Plot links\n",
    "    ax.plot(positions[:, 0], positions[:, 1], positions[:, 2], 'b-', linewidth=2)\n",
    "    \n",
    "    # Plot joints\n",
    "    ax.scatter(positions[:, 0], positions[:, 1], positions[:, 2], c='r', s=100)\n",
    "    \n",
    "    # Set labels and limits\n",
    "    ax.set_xlabel('X')\n",
    "    ax.set_ylabel('Y')\n",
    "    ax.set_zlabel('Z')\n",
    "    ax.set_title('Robot Configuration')\n",
    "    \n",
    "    # Set equal aspect ratio\n",
    "    max_range = np.array([\n",
    "        positions[:, 0].max() - positions[:, 0].min(),\n",
    "        positions[:, 1].max() - positions[:, 1].min(),\n",
    "        positions[:, 2].max() - positions[:, 2].min()\n",
    "    ]).max() / 2.0\n",
    "    \n",
    "    mid_x = (positions[:, 0].max() + positions[:, 0].min()) * 0.5\n",
    "    mid_y = (positions[:, 1].max() + positions[:, 1].min()) * 0.5\n",
    "    mid_z = (positions[:, 2].max() + positions[:, 2].min()) * 0.5\n",
    "    \n",
    "    ax.set_xlim(mid_x - max_range, mid_x + max_range)\n",
    "    ax.set_ylim(mid_y - max_range, mid_y + max_range)\n",
    "    ax.set_zlim(mid_z - max_range, mid_z + max_range)\n",
    "    \n",
    "    plt.show()\n",
    "\n",
    "# Visualize the robot configuration from the inverse kinematics test\n",
    "visualize_robot_configuration(solved_angles)"
   ]
  }
 ],
 "metadata": {
  "kernelspec": {
   "display_name": "Python 3",
   "language": "python",
   "name": "python3"
  },
  "language_info": {
   "codemirror_mode": {
    "name": "ipython",
    "version": 3
   },
   "file_extension": ".py",
   "mimetype": "text/x-python",
   "name": "python",
   "nbconvert_exporter": "python",
   "pygments_lexer": "ipython3",
   "version": "3.8.0"
  }
 },
 "nbformat": 4,
 "nbformat_minor": 4
}
